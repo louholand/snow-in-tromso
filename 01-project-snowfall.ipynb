{
 "cells": [
  {
   "cell_type": "markdown",
   "id": "1bde2577-46b6-4f85-9361-a5038b9a51d1",
   "metadata": {},
   "source": [
    "# 01 Project\n",
    "\n",
    "*Louise Holst Andersen* | *The Lede Program* | *July, 2024*\n",
    "\n",
    "**Snowfall.**"
   ]
  },
  {
   "cell_type": "markdown",
   "id": "dbd7cdc0-0739-486b-9384-d1c6bd69dd81",
   "metadata": {},
   "source": [
    "## Is climate change eating away at Tromsø's skiing season?\n",
    "I want to find out if there is less snow in Tromsø, a town of 80,000 people in the Arctic part of Norway - and my home - than there used to be.\n",
    "\n",
    "This notebook is only for retrieving and analysing **SNOWFALL** data from the [Frost API](https://frost.met.no/index.html) made available by *Meteorologisk institutt*, the Norwegian weather organisation.\n",
    "\n",
    "The original notebook is called **01-project-snowdepth**."
   ]
  },
  {
   "cell_type": "markdown",
   "id": "2d595945-8a82-4243-86bd-aed300ef6383",
   "metadata": {},
   "source": [
    "### Initial setup"
   ]
  },
  {
   "cell_type": "code",
   "execution_count": 7,
   "id": "00e01740-f1af-46e2-a07c-1d49a8656b0e",
   "metadata": {},
   "outputs": [],
   "source": [
    "import requests\n",
    "import pandas as pd"
   ]
  },
  {
   "cell_type": "code",
   "execution_count": 8,
   "id": "fec6747a-862b-491c-9eb7-5a3074f483ca",
   "metadata": {},
   "outputs": [],
   "source": [
    "from dotenv import load_dotenv\n",
    "import os\n",
    "\n",
    "load_dotenv()\n",
    "\n",
    "CLIENT_ID = os.getenv(\"CLIENT_ID\")"
   ]
  },
  {
   "cell_type": "code",
   "execution_count": 9,
   "id": "573afb3d-4ce3-4d2c-a1ea-112427e2e7bd",
   "metadata": {},
   "outputs": [],
   "source": [
    "# Let's put the endpoint into a variable\n",
    "url = 'https://frost.met.no/observations/v0.jsonld'"
   ]
  },
  {
   "cell_type": "markdown",
   "id": "957ccdab-9971-460c-abcf-182f90dd9de2",
   "metadata": {},
   "source": [
    "### Get data"
   ]
  },
  {
   "cell_type": "code",
   "execution_count": 10,
   "id": "ac1f9f13-d283-467d-9a60-bad2718dc757",
   "metadata": {},
   "outputs": [
    {
     "name": "stdout",
     "output_type": "stream",
     "text": [
      "Data retrieved from frost.met.no!\n"
     ]
    }
   ],
   "source": [
    "# Define the repeating time interval with no gaps for each year from 1988 to 2024\n",
    "interval_start = \"1988-10-01\"\n",
    "interval_end = \"1989-06-01\"\n",
    "repetitions = 36  # number of repetitions\n",
    "period = \"P1Y\"  # period of 1 year\n",
    "\n",
    "referencetime = f\"R{repetitions}/{interval_start}/{interval_end}/{period}\"\n",
    "\n",
    "# Set parametres for the API call\n",
    "parametres = {\n",
    "    'sources': 'SN90450', # Tromsø\n",
    "    'elements': 'over_time(thickness_of_snowfall_amount P1D)', # this is the snowfall weather element\n",
    "    'referencetime': referencetime,\n",
    "}\n",
    "\n",
    "# Get the endpoint, parametres and client ID\n",
    "response = requests.get(url, parametres, auth=(CLIENT_ID,''))\n",
    "\n",
    "# Convert the JSON to a dictionary\n",
    "json = response.json()\n",
    "\n",
    "# Check if it worked\n",
    "if response.status_code == 200:\n",
    "    data = json['data']\n",
    "    print('Data retrieved from frost.met.no!')\n",
    "else:\n",
    "    print('Error! Returned status code %s' % response.status_code)\n",
    "    print('Message: %s' % json['error']['message'])"
   ]
  },
  {
   "cell_type": "code",
   "execution_count": 11,
   "id": "c98eecff-2cde-446d-bd51-f12de9df506f",
   "metadata": {},
   "outputs": [
    {
     "data": {
      "text/plain": [
       "{'sourceId': 'SN90450:0',\n",
       " 'referenceTime': '2024-05-31T00:00:00.000Z',\n",
       " 'observations': [{'elementId': 'over_time(thickness_of_snowfall_amount P1D)',\n",
       "   'value': 0,\n",
       "   'unit': 'cm',\n",
       "   'timeOffset': 'PT6H',\n",
       "   'timeResolution': 'P1D',\n",
       "   'timeSeriesId': 0,\n",
       "   'performanceCategory': 'C',\n",
       "   'exposureCategory': '2',\n",
       "   'qualityCode': 2}]}"
      ]
     },
     "execution_count": 11,
     "metadata": {},
     "output_type": "execute_result"
    }
   ],
   "source": [
    "# Check the data\n",
    "data[-1]"
   ]
  },
  {
   "cell_type": "markdown",
   "id": "4437f76f-3723-4df4-88e7-a7c3f5756a03",
   "metadata": {},
   "source": [
    "### Turn it into a DataFrame"
   ]
  },
  {
   "cell_type": "code",
   "execution_count": 12,
   "id": "b906b0b6-b1b8-4db2-a0c2-4716e91ac156",
   "metadata": {},
   "outputs": [],
   "source": [
    "# Initialize an empty list to store individual DataFrames\n",
    "df_list = []\n",
    "\n",
    "# Convert JSON data to a pandas DataFrame\n",
    "for entry in data:\n",
    "    row = pd.DataFrame(entry['observations'])\n",
    "    row['referenceTime'] = entry['referenceTime']\n",
    "    row['sourceId'] = entry['sourceId']\n",
    "    df_list.append(row)\n",
    "\n",
    "# Concatenate all DataFrames in the list\n",
    "df = pd.concat(df_list, ignore_index=True)"
   ]
  },
  {
   "cell_type": "code",
   "execution_count": 13,
   "id": "a17dbac9-fd45-4e56-b769-220dc7628570",
   "metadata": {},
   "outputs": [
    {
     "data": {
      "text/html": [
       "<div>\n",
       "<style scoped>\n",
       "    .dataframe tbody tr th:only-of-type {\n",
       "        vertical-align: middle;\n",
       "    }\n",
       "\n",
       "    .dataframe tbody tr th {\n",
       "        vertical-align: top;\n",
       "    }\n",
       "\n",
       "    .dataframe thead th {\n",
       "        text-align: right;\n",
       "    }\n",
       "</style>\n",
       "<table border=\"1\" class=\"dataframe\">\n",
       "  <thead>\n",
       "    <tr style=\"text-align: right;\">\n",
       "      <th></th>\n",
       "      <th>elementId</th>\n",
       "      <th>value</th>\n",
       "      <th>unit</th>\n",
       "      <th>timeOffset</th>\n",
       "      <th>timeResolution</th>\n",
       "      <th>timeSeriesId</th>\n",
       "      <th>performanceCategory</th>\n",
       "      <th>exposureCategory</th>\n",
       "      <th>qualityCode</th>\n",
       "      <th>referenceTime</th>\n",
       "      <th>sourceId</th>\n",
       "    </tr>\n",
       "  </thead>\n",
       "  <tbody>\n",
       "    <tr>\n",
       "      <th>0</th>\n",
       "      <td>over_time(thickness_of_snowfall_amount P1D)</td>\n",
       "      <td>3</td>\n",
       "      <td>cm</td>\n",
       "      <td>PT6H</td>\n",
       "      <td>P1D</td>\n",
       "      <td>0</td>\n",
       "      <td>C</td>\n",
       "      <td>2</td>\n",
       "      <td>2</td>\n",
       "      <td>1988-10-23T00:00:00.000Z</td>\n",
       "      <td>SN90450:0</td>\n",
       "    </tr>\n",
       "    <tr>\n",
       "      <th>1</th>\n",
       "      <td>over_time(thickness_of_snowfall_amount P1D)</td>\n",
       "      <td>8</td>\n",
       "      <td>cm</td>\n",
       "      <td>PT6H</td>\n",
       "      <td>P1D</td>\n",
       "      <td>0</td>\n",
       "      <td>C</td>\n",
       "      <td>2</td>\n",
       "      <td>2</td>\n",
       "      <td>1988-10-24T00:00:00.000Z</td>\n",
       "      <td>SN90450:0</td>\n",
       "    </tr>\n",
       "    <tr>\n",
       "      <th>2</th>\n",
       "      <td>over_time(thickness_of_snowfall_amount P1D)</td>\n",
       "      <td>10</td>\n",
       "      <td>cm</td>\n",
       "      <td>PT6H</td>\n",
       "      <td>P1D</td>\n",
       "      <td>0</td>\n",
       "      <td>C</td>\n",
       "      <td>2</td>\n",
       "      <td>2</td>\n",
       "      <td>1988-10-25T00:00:00.000Z</td>\n",
       "      <td>SN90450:0</td>\n",
       "    </tr>\n",
       "    <tr>\n",
       "      <th>3</th>\n",
       "      <td>over_time(thickness_of_snowfall_amount P1D)</td>\n",
       "      <td>11</td>\n",
       "      <td>cm</td>\n",
       "      <td>PT6H</td>\n",
       "      <td>P1D</td>\n",
       "      <td>0</td>\n",
       "      <td>C</td>\n",
       "      <td>2</td>\n",
       "      <td>2</td>\n",
       "      <td>1988-10-26T00:00:00.000Z</td>\n",
       "      <td>SN90450:0</td>\n",
       "    </tr>\n",
       "    <tr>\n",
       "      <th>4</th>\n",
       "      <td>over_time(thickness_of_snowfall_amount P1D)</td>\n",
       "      <td>1</td>\n",
       "      <td>cm</td>\n",
       "      <td>PT6H</td>\n",
       "      <td>P1D</td>\n",
       "      <td>0</td>\n",
       "      <td>C</td>\n",
       "      <td>2</td>\n",
       "      <td>2</td>\n",
       "      <td>1988-10-27T00:00:00.000Z</td>\n",
       "      <td>SN90450:0</td>\n",
       "    </tr>\n",
       "  </tbody>\n",
       "</table>\n",
       "</div>"
      ],
      "text/plain": [
       "                                     elementId  value unit timeOffset  \\\n",
       "0  over_time(thickness_of_snowfall_amount P1D)      3   cm       PT6H   \n",
       "1  over_time(thickness_of_snowfall_amount P1D)      8   cm       PT6H   \n",
       "2  over_time(thickness_of_snowfall_amount P1D)     10   cm       PT6H   \n",
       "3  over_time(thickness_of_snowfall_amount P1D)     11   cm       PT6H   \n",
       "4  over_time(thickness_of_snowfall_amount P1D)      1   cm       PT6H   \n",
       "\n",
       "  timeResolution  timeSeriesId performanceCategory exposureCategory  \\\n",
       "0            P1D             0                   C                2   \n",
       "1            P1D             0                   C                2   \n",
       "2            P1D             0                   C                2   \n",
       "3            P1D             0                   C                2   \n",
       "4            P1D             0                   C                2   \n",
       "\n",
       "   qualityCode             referenceTime   sourceId  \n",
       "0            2  1988-10-23T00:00:00.000Z  SN90450:0  \n",
       "1            2  1988-10-24T00:00:00.000Z  SN90450:0  \n",
       "2            2  1988-10-25T00:00:00.000Z  SN90450:0  \n",
       "3            2  1988-10-26T00:00:00.000Z  SN90450:0  \n",
       "4            2  1988-10-27T00:00:00.000Z  SN90450:0  "
      ]
     },
     "execution_count": 13,
     "metadata": {},
     "output_type": "execute_result"
    }
   ],
   "source": [
    "df.head()"
   ]
  },
  {
   "cell_type": "markdown",
   "id": "f47ccb78-b169-4935-80e1-132289c9c931",
   "metadata": {},
   "source": [
    "#### Remove some columns"
   ]
  },
  {
   "cell_type": "code",
   "execution_count": 14,
   "id": "62ccf85e-93a2-4160-8148-6728485e282a",
   "metadata": {},
   "outputs": [],
   "source": [
    "# These additional columns will be kept\n",
    "columns = ['sourceId','referenceTime','elementId','value','unit','timeOffset','timeResolution']\n",
    "df2 = df[columns].copy()\n",
    "\n",
    "# Convert the time value to something Python understands\n",
    "df2['referenceTime'] = pd.to_datetime(df2['referenceTime'])"
   ]
  },
  {
   "cell_type": "code",
   "execution_count": 15,
   "id": "a893c184-ef69-46c6-a8f9-81901f265d47",
   "metadata": {},
   "outputs": [
    {
     "data": {
      "text/html": [
       "<div>\n",
       "<style scoped>\n",
       "    .dataframe tbody tr th:only-of-type {\n",
       "        vertical-align: middle;\n",
       "    }\n",
       "\n",
       "    .dataframe tbody tr th {\n",
       "        vertical-align: top;\n",
       "    }\n",
       "\n",
       "    .dataframe thead th {\n",
       "        text-align: right;\n",
       "    }\n",
       "</style>\n",
       "<table border=\"1\" class=\"dataframe\">\n",
       "  <thead>\n",
       "    <tr style=\"text-align: right;\">\n",
       "      <th></th>\n",
       "      <th>sourceId</th>\n",
       "      <th>referenceTime</th>\n",
       "      <th>elementId</th>\n",
       "      <th>value</th>\n",
       "      <th>unit</th>\n",
       "      <th>timeOffset</th>\n",
       "      <th>timeResolution</th>\n",
       "    </tr>\n",
       "  </thead>\n",
       "  <tbody>\n",
       "    <tr>\n",
       "      <th>0</th>\n",
       "      <td>SN90450:0</td>\n",
       "      <td>1988-10-23 00:00:00+00:00</td>\n",
       "      <td>over_time(thickness_of_snowfall_amount P1D)</td>\n",
       "      <td>3</td>\n",
       "      <td>cm</td>\n",
       "      <td>PT6H</td>\n",
       "      <td>P1D</td>\n",
       "    </tr>\n",
       "    <tr>\n",
       "      <th>1</th>\n",
       "      <td>SN90450:0</td>\n",
       "      <td>1988-10-24 00:00:00+00:00</td>\n",
       "      <td>over_time(thickness_of_snowfall_amount P1D)</td>\n",
       "      <td>8</td>\n",
       "      <td>cm</td>\n",
       "      <td>PT6H</td>\n",
       "      <td>P1D</td>\n",
       "    </tr>\n",
       "    <tr>\n",
       "      <th>2</th>\n",
       "      <td>SN90450:0</td>\n",
       "      <td>1988-10-25 00:00:00+00:00</td>\n",
       "      <td>over_time(thickness_of_snowfall_amount P1D)</td>\n",
       "      <td>10</td>\n",
       "      <td>cm</td>\n",
       "      <td>PT6H</td>\n",
       "      <td>P1D</td>\n",
       "    </tr>\n",
       "    <tr>\n",
       "      <th>3</th>\n",
       "      <td>SN90450:0</td>\n",
       "      <td>1988-10-26 00:00:00+00:00</td>\n",
       "      <td>over_time(thickness_of_snowfall_amount P1D)</td>\n",
       "      <td>11</td>\n",
       "      <td>cm</td>\n",
       "      <td>PT6H</td>\n",
       "      <td>P1D</td>\n",
       "    </tr>\n",
       "    <tr>\n",
       "      <th>4</th>\n",
       "      <td>SN90450:0</td>\n",
       "      <td>1988-10-27 00:00:00+00:00</td>\n",
       "      <td>over_time(thickness_of_snowfall_amount P1D)</td>\n",
       "      <td>1</td>\n",
       "      <td>cm</td>\n",
       "      <td>PT6H</td>\n",
       "      <td>P1D</td>\n",
       "    </tr>\n",
       "  </tbody>\n",
       "</table>\n",
       "</div>"
      ],
      "text/plain": [
       "    sourceId             referenceTime  \\\n",
       "0  SN90450:0 1988-10-23 00:00:00+00:00   \n",
       "1  SN90450:0 1988-10-24 00:00:00+00:00   \n",
       "2  SN90450:0 1988-10-25 00:00:00+00:00   \n",
       "3  SN90450:0 1988-10-26 00:00:00+00:00   \n",
       "4  SN90450:0 1988-10-27 00:00:00+00:00   \n",
       "\n",
       "                                     elementId  value unit timeOffset  \\\n",
       "0  over_time(thickness_of_snowfall_amount P1D)      3   cm       PT6H   \n",
       "1  over_time(thickness_of_snowfall_amount P1D)      8   cm       PT6H   \n",
       "2  over_time(thickness_of_snowfall_amount P1D)     10   cm       PT6H   \n",
       "3  over_time(thickness_of_snowfall_amount P1D)     11   cm       PT6H   \n",
       "4  over_time(thickness_of_snowfall_amount P1D)      1   cm       PT6H   \n",
       "\n",
       "  timeResolution  \n",
       "0            P1D  \n",
       "1            P1D  \n",
       "2            P1D  \n",
       "3            P1D  \n",
       "4            P1D  "
      ]
     },
     "execution_count": 15,
     "metadata": {},
     "output_type": "execute_result"
    }
   ],
   "source": [
    "df2.head()"
   ]
  },
  {
   "cell_type": "markdown",
   "id": "836531e7-40de-4520-8406-5a6a225f3e3b",
   "metadata": {},
   "source": [
    "### Data analysis"
   ]
  },
  {
   "cell_type": "markdown",
   "id": "eb7e3af1-e146-45ae-adb1-856aff519546",
   "metadata": {},
   "source": [
    "#### Initial summary statistics"
   ]
  },
  {
   "cell_type": "code",
   "execution_count": 16,
   "id": "3f2e9df0-36c3-4c3e-afde-97707cc74f2a",
   "metadata": {},
   "outputs": [
    {
     "data": {
      "text/html": [
       "<div>\n",
       "<style scoped>\n",
       "    .dataframe tbody tr th:only-of-type {\n",
       "        vertical-align: middle;\n",
       "    }\n",
       "\n",
       "    .dataframe tbody tr th {\n",
       "        vertical-align: top;\n",
       "    }\n",
       "\n",
       "    .dataframe thead th {\n",
       "        text-align: right;\n",
       "    }\n",
       "</style>\n",
       "<table border=\"1\" class=\"dataframe\">\n",
       "  <thead>\n",
       "    <tr style=\"text-align: right;\">\n",
       "      <th></th>\n",
       "      <th>value</th>\n",
       "    </tr>\n",
       "  </thead>\n",
       "  <tbody>\n",
       "    <tr>\n",
       "      <th>count</th>\n",
       "      <td>6977.000000</td>\n",
       "    </tr>\n",
       "    <tr>\n",
       "      <th>mean</th>\n",
       "      <td>2.406478</td>\n",
       "    </tr>\n",
       "    <tr>\n",
       "      <th>std</th>\n",
       "      <td>4.831852</td>\n",
       "    </tr>\n",
       "    <tr>\n",
       "      <th>min</th>\n",
       "      <td>0.000000</td>\n",
       "    </tr>\n",
       "    <tr>\n",
       "      <th>25%</th>\n",
       "      <td>0.000000</td>\n",
       "    </tr>\n",
       "    <tr>\n",
       "      <th>50%</th>\n",
       "      <td>0.000000</td>\n",
       "    </tr>\n",
       "    <tr>\n",
       "      <th>75%</th>\n",
       "      <td>2.000000</td>\n",
       "    </tr>\n",
       "    <tr>\n",
       "      <th>max</th>\n",
       "      <td>40.000000</td>\n",
       "    </tr>\n",
       "  </tbody>\n",
       "</table>\n",
       "</div>"
      ],
      "text/plain": [
       "             value\n",
       "count  6977.000000\n",
       "mean      2.406478\n",
       "std       4.831852\n",
       "min       0.000000\n",
       "25%       0.000000\n",
       "50%       0.000000\n",
       "75%       2.000000\n",
       "max      40.000000"
      ]
     },
     "execution_count": 16,
     "metadata": {},
     "output_type": "execute_result"
    }
   ],
   "source": [
    "df2.describe()"
   ]
  }
 ],
 "metadata": {
  "kernelspec": {
   "display_name": "Python 3 (ipykernel)",
   "language": "python",
   "name": "python3"
  },
  "language_info": {
   "codemirror_mode": {
    "name": "ipython",
    "version": 3
   },
   "file_extension": ".py",
   "mimetype": "text/x-python",
   "name": "python",
   "nbconvert_exporter": "python",
   "pygments_lexer": "ipython3",
   "version": "3.11.8"
  }
 },
 "nbformat": 4,
 "nbformat_minor": 5
}
